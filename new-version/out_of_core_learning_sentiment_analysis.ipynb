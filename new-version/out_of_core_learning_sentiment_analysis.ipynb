{
  "cells": [
    {
      "cell_type": "markdown",
      "metadata": {
        "id": "mKhAG_dlCGBQ"
      },
      "source": [
        "# Sentiment Analysis of orders reviews in Greek\n",
        "### Out-of-core-Learning"
      ]
    },
    {
      "cell_type": "code",
      "execution_count": null,
      "metadata": {},
      "outputs": [],
      "source": [
        "!pip show scikit-learn"
      ]
    },
    {
      "cell_type": "code",
      "execution_count": 1,
      "metadata": {
        "_cell_guid": "b1076dfc-b9ad-4769-8c92-a6c4dae69d19",
        "_uuid": "8f2839f25d086af736a60e9eeb907d3b93b6e0e5",
        "execution": {
          "iopub.execute_input": "2024-10-23T07:40:00.864918Z",
          "iopub.status.busy": "2024-10-23T07:40:00.864441Z",
          "iopub.status.idle": "2024-10-23T07:40:02.798619Z",
          "shell.execute_reply": "2024-10-23T07:40:02.797270Z",
          "shell.execute_reply.started": "2024-10-23T07:40:00.864860Z"
        },
        "id": "uy8MbXdNCGBS",
        "trusted": true
      },
      "outputs": [],
      "source": [
        "#Import libraries\n",
        "import numpy as np # linear algebra\n",
        "import pandas as pd # data processing, CSV file I/O (e.g. pd.read_csv)\n",
        "import re\n",
        "from nltk.corpus import stopwords\n",
        "import os\n",
        "\n",
        "file_path = \"Skroutz_dataset.csv\""
      ]
    },
    {
      "cell_type": "code",
      "execution_count": 2,
      "metadata": {
        "colab": {
          "base_uri": "https://localhost:8080/",
          "height": 206
        },
        "execution": {
          "iopub.execute_input": "2024-10-23T08:08:53.021246Z",
          "iopub.status.busy": "2024-10-23T08:08:53.020783Z",
          "iopub.status.idle": "2024-10-23T08:08:53.688574Z",
          "shell.execute_reply": "2024-10-23T08:08:53.687465Z",
          "shell.execute_reply.started": "2024-10-23T08:08:53.021202Z"
        },
        "id": "8CBmOYgdCGBT",
        "outputId": "49b2f468-92a3-4103-c8c7-8da6e7186a19",
        "trusted": true
      },
      "outputs": [
        {
          "data": {
            "text/html": [
              "<div>\n",
              "<style scoped>\n",
              "    .dataframe tbody tr th:only-of-type {\n",
              "        vertical-align: middle;\n",
              "    }\n",
              "\n",
              "    .dataframe tbody tr th {\n",
              "        vertical-align: top;\n",
              "    }\n",
              "\n",
              "    .dataframe thead th {\n",
              "        text-align: right;\n",
              "    }\n",
              "</style>\n",
              "<table border=\"1\" class=\"dataframe\">\n",
              "  <thead>\n",
              "    <tr style=\"text-align: right;\">\n",
              "      <th></th>\n",
              "      <th>Unnamed: 0.1</th>\n",
              "      <th>Unnamed: 0</th>\n",
              "      <th>review</th>\n",
              "      <th>label</th>\n",
              "    </tr>\n",
              "  </thead>\n",
              "  <tbody>\n",
              "    <tr>\n",
              "      <th>0</th>\n",
              "      <td>0</td>\n",
              "      <td>0</td>\n",
              "      <td>Πολύ καλό κατάστημα  τόσο από κοντά  όσο και...</td>\n",
              "      <td>1</td>\n",
              "    </tr>\n",
              "    <tr>\n",
              "      <th>1</th>\n",
              "      <td>1</td>\n",
              "      <td>1</td>\n",
              "      <td>Γρήγορη παραλαβή και φιλική εξυπηρέτηση.</td>\n",
              "      <td>1</td>\n",
              "    </tr>\n",
              "    <tr>\n",
              "      <th>2</th>\n",
              "      <td>2</td>\n",
              "      <td>2</td>\n",
              "      <td>Εύκολα γρήγορα απλά.  Το προϊόν όπως περιγρά...</td>\n",
              "      <td>1</td>\n",
              "    </tr>\n",
              "    <tr>\n",
              "      <th>3</th>\n",
              "      <td>3</td>\n",
              "      <td>3</td>\n",
              "      <td>Πολύ ευχαριστημένη με την παράδοση. Επικοινω...</td>\n",
              "      <td>1</td>\n",
              "    </tr>\n",
              "    <tr>\n",
              "      <th>4</th>\n",
              "      <td>4</td>\n",
              "      <td>4</td>\n",
              "      <td>Όλα πήγαν καλά με την παραγγελία μου. Θα αγο...</td>\n",
              "      <td>1</td>\n",
              "    </tr>\n",
              "  </tbody>\n",
              "</table>\n",
              "</div>"
            ],
            "text/plain": [
              "   Unnamed: 0.1  Unnamed: 0  \\\n",
              "0             0           0   \n",
              "1             1           1   \n",
              "2             2           2   \n",
              "3             3           3   \n",
              "4             4           4   \n",
              "\n",
              "                                              review  label  \n",
              "0    Πολύ καλό κατάστημα  τόσο από κοντά  όσο και...      1  \n",
              "1      Γρήγορη παραλαβή και φιλική εξυπηρέτηση.           1  \n",
              "2    Εύκολα γρήγορα απλά.  Το προϊόν όπως περιγρά...      1  \n",
              "3    Πολύ ευχαριστημένη με την παράδοση. Επικοινω...      1  \n",
              "4    Όλα πήγαν καλά με την παραγγελία μου. Θα αγο...      1  "
            ]
          },
          "execution_count": 2,
          "metadata": {},
          "output_type": "execute_result"
        }
      ],
      "source": [
        "df = pd.read_csv(file_path)\n",
        "df.head()"
      ]
    },
    {
      "cell_type": "code",
      "execution_count": 3,
      "metadata": {
        "colab": {
          "base_uri": "https://localhost:8080/",
          "height": 178
        },
        "execution": {
          "iopub.execute_input": "2024-10-23T08:07:19.159295Z",
          "iopub.status.busy": "2024-10-23T08:07:19.158811Z",
          "iopub.status.idle": "2024-10-23T08:07:19.169589Z",
          "shell.execute_reply": "2024-10-23T08:07:19.168443Z",
          "shell.execute_reply.started": "2024-10-23T08:07:19.159254Z"
        },
        "id": "bfhtE39NCGBU",
        "outputId": "c3fd8304-1492-4ae4-b5f1-0b0a8b85054d",
        "trusted": true
      },
      "outputs": [
        {
          "data": {
            "text/plain": [
              "Unnamed: 0.1    0\n",
              "Unnamed: 0      0\n",
              "review          0\n",
              "label           0\n",
              "dtype: int64"
            ]
          },
          "execution_count": 3,
          "metadata": {},
          "output_type": "execute_result"
        }
      ],
      "source": [
        "df.isna().sum()"
      ]
    },
    {
      "cell_type": "code",
      "execution_count": null,
      "metadata": {
        "colab": {
          "base_uri": "https://localhost:8080/",
          "height": 304
        },
        "execution": {
          "iopub.execute_input": "2024-10-23T08:08:58.105599Z",
          "iopub.status.busy": "2024-10-23T08:08:58.105145Z",
          "iopub.status.idle": "2024-10-23T08:08:58.118405Z",
          "shell.execute_reply": "2024-10-23T08:08:58.117124Z",
          "shell.execute_reply.started": "2024-10-23T08:08:58.105552Z"
        },
        "id": "8d-cSgEfCGBU",
        "outputId": "3fa9e399-7b51-4b11-d21c-97712cd410b2",
        "trusted": true
      },
      "outputs": [],
      "source": [
        "# df.drop(['id'], axis=1, inplace=True)\n",
        "# df.head()"
      ]
    },
    {
      "cell_type": "code",
      "execution_count": 4,
      "metadata": {
        "colab": {
          "base_uri": "https://localhost:8080/",
          "height": 206
        },
        "execution": {
          "iopub.execute_input": "2024-10-23T08:08:26.392924Z",
          "iopub.status.busy": "2024-10-23T08:08:26.392533Z",
          "iopub.status.idle": "2024-10-23T08:08:26.403830Z",
          "shell.execute_reply": "2024-10-23T08:08:26.402729Z",
          "shell.execute_reply.started": "2024-10-23T08:08:26.392887Z"
        },
        "id": "cKK_nnWECGBU",
        "outputId": "b2ce2665-4d40-4bc3-c77b-dcdcb3f82dcd",
        "trusted": true
      },
      "outputs": [
        {
          "data": {
            "text/html": [
              "<div>\n",
              "<style scoped>\n",
              "    .dataframe tbody tr th:only-of-type {\n",
              "        vertical-align: middle;\n",
              "    }\n",
              "\n",
              "    .dataframe tbody tr th {\n",
              "        vertical-align: top;\n",
              "    }\n",
              "\n",
              "    .dataframe thead th {\n",
              "        text-align: right;\n",
              "    }\n",
              "</style>\n",
              "<table border=\"1\" class=\"dataframe\">\n",
              "  <thead>\n",
              "    <tr style=\"text-align: right;\">\n",
              "      <th></th>\n",
              "      <th>Unnamed: 0.1</th>\n",
              "      <th>Unnamed: 0</th>\n",
              "      <th>review</th>\n",
              "      <th>label</th>\n",
              "    </tr>\n",
              "  </thead>\n",
              "  <tbody>\n",
              "    <tr>\n",
              "      <th>6547</th>\n",
              "      <td>6547</td>\n",
              "      <td>6547</td>\n",
              "      <td>Παράγγειλα κινητό 1 έως 3 εργάσιμες   ήθελα ...</td>\n",
              "      <td>0</td>\n",
              "    </tr>\n",
              "    <tr>\n",
              "      <th>6548</th>\n",
              "      <td>6548</td>\n",
              "      <td>6548</td>\n",
              "      <td>Έχει επιλογές για έκδοση τιμολογίου. Σε αφήν...</td>\n",
              "      <td>0</td>\n",
              "    </tr>\n",
              "    <tr>\n",
              "      <th>6549</th>\n",
              "      <td>6549</td>\n",
              "      <td>6549</td>\n",
              "      <td>Η παραγγελία ήταν ένα Huawei p10 lite gold e...</td>\n",
              "      <td>0</td>\n",
              "    </tr>\n",
              "    <tr>\n",
              "      <th>6550</th>\n",
              "      <td>6550</td>\n",
              "      <td>6550</td>\n",
              "      <td>Καθυστέρησαν να μου στείλουν την παραγγελία....</td>\n",
              "      <td>0</td>\n",
              "    </tr>\n",
              "    <tr>\n",
              "      <th>6551</th>\n",
              "      <td>6551</td>\n",
              "      <td>6551</td>\n",
              "      <td>Δεν ξέρω ακόμη αν θα μου στείλουν το προϊόν!...</td>\n",
              "      <td>0</td>\n",
              "    </tr>\n",
              "  </tbody>\n",
              "</table>\n",
              "</div>"
            ],
            "text/plain": [
              "      Unnamed: 0.1  Unnamed: 0  \\\n",
              "6547          6547        6547   \n",
              "6548          6548        6548   \n",
              "6549          6549        6549   \n",
              "6550          6550        6550   \n",
              "6551          6551        6551   \n",
              "\n",
              "                                                 review  label  \n",
              "6547    Παράγγειλα κινητό 1 έως 3 εργάσιμες   ήθελα ...      0  \n",
              "6548    Έχει επιλογές για έκδοση τιμολογίου. Σε αφήν...      0  \n",
              "6549    Η παραγγελία ήταν ένα Huawei p10 lite gold e...      0  \n",
              "6550    Καθυστέρησαν να μου στείλουν την παραγγελία....      0  \n",
              "6551    Δεν ξέρω ακόμη αν θα μου στείλουν το προϊόν!...      0  "
            ]
          },
          "execution_count": 4,
          "metadata": {},
          "output_type": "execute_result"
        }
      ],
      "source": [
        "df.tail()"
      ]
    },
    {
      "cell_type": "code",
      "execution_count": 5,
      "metadata": {
        "colab": {
          "base_uri": "https://localhost:8080/",
          "height": 53
        },
        "id": "Zz-llD5MDOVN",
        "outputId": "2eaf0c19-75b8-4d62-9d91-e0e1400c13bc"
      },
      "outputs": [
        {
          "data": {
            "text/plain": [
              "'  Παράγγειλα κινητό 1 έως 3 εργάσιμες   ήθελα τιμολόγιο χωρίς ΦΠΑ βάση 39α  με κάλεσαν πίσω να με ενημερώσουν οτι η εταιρία τους δεν κόβουν τιμολόγια χωρίς ΦΠΑ όποτε η παραγγελία θα ακυρωθεί  τους ζήτησα το καταστατικό ώστε να δούμε αν αναγράφεται πουθενά και ακόμη το περιμένω!  Δεν θα τους ξανα προτιμήσω!     '"
            ]
          },
          "execution_count": 5,
          "metadata": {},
          "output_type": "execute_result"
        }
      ],
      "source": [
        "df.iloc[6547]['review']"
      ]
    },
    {
      "cell_type": "code",
      "execution_count": 6,
      "metadata": {
        "colab": {
          "base_uri": "https://localhost:8080/",
          "height": 178
        },
        "id": "6YfXMvVoCvV3",
        "outputId": "9530d490-d357-4efe-bad3-26b7146c969b"
      },
      "outputs": [
        {
          "data": {
            "text/plain": [
              "Unnamed: 0.1                                                 6547\n",
              "Unnamed: 0                                                   6547\n",
              "review            Παράγγειλα κινητό 1 έως 3 εργάσιμες   ήθελα ...\n",
              "label                                                           0\n",
              "Name: 6547, dtype: object"
            ]
          },
          "execution_count": 6,
          "metadata": {},
          "output_type": "execute_result"
        }
      ],
      "source": [
        "df.iloc[6547]"
      ]
    },
    {
      "cell_type": "code",
      "execution_count": null,
      "metadata": {
        "colab": {
          "base_uri": "https://localhost:8080/",
          "height": 348
        },
        "execution": {
          "iopub.execute_input": "2024-10-23T08:09:03.030628Z",
          "iopub.status.busy": "2024-10-23T08:09:03.030226Z",
          "iopub.status.idle": "2024-10-23T08:09:03.047428Z",
          "shell.execute_reply": "2024-10-23T08:09:03.046259Z",
          "shell.execute_reply.started": "2024-10-23T08:09:03.030591Z"
        },
        "id": "4AofzchtCGBU",
        "outputId": "dde96565-2892-40c3-e326-574b51903e3e",
        "trusted": true
      },
      "outputs": [],
      "source": [
        "# df['label'].replace({'Negative':0, 'Positive':1}, inplace=True)\n",
        "# df.head()"
      ]
    },
    {
      "cell_type": "code",
      "execution_count": 7,
      "metadata": {
        "execution": {
          "iopub.execute_input": "2024-10-23T08:09:06.419885Z",
          "iopub.status.busy": "2024-10-23T08:09:06.419075Z",
          "iopub.status.idle": "2024-10-23T08:09:06.558709Z",
          "shell.execute_reply": "2024-10-23T08:09:06.557611Z",
          "shell.execute_reply.started": "2024-10-23T08:09:06.419834Z"
        },
        "id": "80Pz8dTRCGBU",
        "trusted": true
      },
      "outputs": [],
      "source": [
        "# df.to_csv('Skroutz_dataset.csv')"
      ]
    },
    {
      "cell_type": "code",
      "execution_count": 7,
      "metadata": {
        "colab": {
          "base_uri": "https://localhost:8080/",
          "height": 206
        },
        "execution": {
          "iopub.execute_input": "2024-10-23T08:09:08.860155Z",
          "iopub.status.busy": "2024-10-23T08:09:08.859726Z",
          "iopub.status.idle": "2024-10-23T08:09:08.995928Z",
          "shell.execute_reply": "2024-10-23T08:09:08.994848Z",
          "shell.execute_reply.started": "2024-10-23T08:09:08.860114Z"
        },
        "id": "gjIaAUyCCGBV",
        "outputId": "dd985862-deea-479b-cd5d-14c744c2d64b",
        "trusted": true
      },
      "outputs": [
        {
          "data": {
            "text/html": [
              "<div>\n",
              "<style scoped>\n",
              "    .dataframe tbody tr th:only-of-type {\n",
              "        vertical-align: middle;\n",
              "    }\n",
              "\n",
              "    .dataframe tbody tr th {\n",
              "        vertical-align: top;\n",
              "    }\n",
              "\n",
              "    .dataframe thead th {\n",
              "        text-align: right;\n",
              "    }\n",
              "</style>\n",
              "<table border=\"1\" class=\"dataframe\">\n",
              "  <thead>\n",
              "    <tr style=\"text-align: right;\">\n",
              "      <th></th>\n",
              "      <th>Unnamed: 0.1</th>\n",
              "      <th>Unnamed: 0</th>\n",
              "      <th>review</th>\n",
              "      <th>label</th>\n",
              "    </tr>\n",
              "  </thead>\n",
              "  <tbody>\n",
              "    <tr>\n",
              "      <th>0</th>\n",
              "      <td>0</td>\n",
              "      <td>0</td>\n",
              "      <td>Πολύ καλό κατάστημα  τόσο από κοντά  όσο και...</td>\n",
              "      <td>1</td>\n",
              "    </tr>\n",
              "    <tr>\n",
              "      <th>1</th>\n",
              "      <td>1</td>\n",
              "      <td>1</td>\n",
              "      <td>Γρήγορη παραλαβή και φιλική εξυπηρέτηση.</td>\n",
              "      <td>1</td>\n",
              "    </tr>\n",
              "    <tr>\n",
              "      <th>2</th>\n",
              "      <td>2</td>\n",
              "      <td>2</td>\n",
              "      <td>Εύκολα γρήγορα απλά.  Το προϊόν όπως περιγρά...</td>\n",
              "      <td>1</td>\n",
              "    </tr>\n",
              "    <tr>\n",
              "      <th>3</th>\n",
              "      <td>3</td>\n",
              "      <td>3</td>\n",
              "      <td>Πολύ ευχαριστημένη με την παράδοση. Επικοινω...</td>\n",
              "      <td>1</td>\n",
              "    </tr>\n",
              "    <tr>\n",
              "      <th>4</th>\n",
              "      <td>4</td>\n",
              "      <td>4</td>\n",
              "      <td>Όλα πήγαν καλά με την παραγγελία μου. Θα αγο...</td>\n",
              "      <td>1</td>\n",
              "    </tr>\n",
              "  </tbody>\n",
              "</table>\n",
              "</div>"
            ],
            "text/plain": [
              "   Unnamed: 0.1  Unnamed: 0  \\\n",
              "0             0           0   \n",
              "1             1           1   \n",
              "2             2           2   \n",
              "3             3           3   \n",
              "4             4           4   \n",
              "\n",
              "                                              review  label  \n",
              "0    Πολύ καλό κατάστημα  τόσο από κοντά  όσο και...      1  \n",
              "1      Γρήγορη παραλαβή και φιλική εξυπηρέτηση.           1  \n",
              "2    Εύκολα γρήγορα απλά.  Το προϊόν όπως περιγρά...      1  \n",
              "3    Πολύ ευχαριστημένη με την παράδοση. Επικοινω...      1  \n",
              "4    Όλα πήγαν καλά με την παραγγελία μου. Θα αγο...      1  "
            ]
          },
          "execution_count": 7,
          "metadata": {},
          "output_type": "execute_result"
        }
      ],
      "source": [
        "#data = pd.read_csv('/kaggle/working/Skroutz_dataset.csv')\n",
        "data = pd.read_csv('Skroutz_dataset.csv')\n",
        "data.head()"
      ]
    },
    {
      "cell_type": "code",
      "execution_count": 8,
      "metadata": {
        "colab": {
          "base_uri": "https://localhost:8080/",
          "height": 1000
        },
        "execution": {
          "iopub.execute_input": "2024-10-23T08:09:13.421993Z",
          "iopub.status.busy": "2024-10-23T08:09:13.421560Z",
          "iopub.status.idle": "2024-10-23T08:09:13.431947Z",
          "shell.execute_reply": "2024-10-23T08:09:13.430929Z",
          "shell.execute_reply.started": "2024-10-23T08:09:13.421952Z"
        },
        "id": "k4rY3YGOCGBV",
        "outputId": "5804b59a-7a65-4769-c6ca-97fe1bb20c8b",
        "trusted": true
      },
      "outputs": [],
      "source": [
        "greek_stopwords = stopwords.words('greek')"
      ]
    },
    {
      "cell_type": "code",
      "execution_count": 13,
      "metadata": {
        "execution": {
          "iopub.execute_input": "2024-10-23T08:14:36.034963Z",
          "iopub.status.busy": "2024-10-23T08:14:36.034190Z",
          "iopub.status.idle": "2024-10-23T08:14:36.041195Z",
          "shell.execute_reply": "2024-10-23T08:14:36.039932Z",
          "shell.execute_reply.started": "2024-10-23T08:14:36.034906Z"
        },
        "id": "5v2ph3JmCGBV",
        "trusted": true
      },
      "outputs": [],
      "source": [
        "# remove any html characters\n",
        "def tokenizer(text):\n",
        "    text = re.sub('<[^>]*>', '', text)\n",
        "    emotions = re.findall('(?::|;|=)(?:-)?(?:\\\\)|\\\\)|D|P)', text)\n",
        "    text = re.sub('[\\\\W]+', ' ', text.lower()) + ' '.join(emotions).replace('-','')\n",
        "    tokenized = [w for w in text.split() if w not in greek_stopwords]\n",
        "    return tokenized"
      ]
    },
    {
      "cell_type": "code",
      "execution_count": 14,
      "metadata": {
        "execution": {
          "iopub.execute_input": "2024-10-23T08:14:41.420431Z",
          "iopub.status.busy": "2024-10-23T08:14:41.420005Z",
          "iopub.status.idle": "2024-10-23T08:14:41.426383Z",
          "shell.execute_reply": "2024-10-23T08:14:41.425014Z",
          "shell.execute_reply.started": "2024-10-23T08:14:41.420392Z"
        },
        "id": "e7f95QnmCGBV",
        "trusted": true
      },
      "outputs": [],
      "source": [
        "# Generate stream_docs\n",
        "def stream_docs(path):\n",
        "    with open(path, 'r', encoding='utf-8') as csv:\n",
        "        next(csv) # skip header\n",
        "        for line in csv:\n",
        "            text, label = line[:-3], int(line[-2])\n",
        "            yield text, label"
      ]
    },
    {
      "cell_type": "code",
      "execution_count": 15,
      "metadata": {
        "execution": {
          "iopub.execute_input": "2024-10-23T08:14:48.255081Z",
          "iopub.status.busy": "2024-10-23T08:14:48.254653Z",
          "iopub.status.idle": "2024-10-23T08:14:48.262893Z",
          "shell.execute_reply": "2024-10-23T08:14:48.261645Z",
          "shell.execute_reply.started": "2024-10-23T08:14:48.255042Z"
        },
        "id": "MA1u65MrCGBW",
        "outputId": "55948542-ba51-4192-b010-467c6df22ee9",
        "trusted": true
      },
      "outputs": [
        {
          "data": {
            "text/plain": [
              "('0,0,  Πολύ καλό κατάστημα  τόσο από κοντά  όσο και εξ αποστάσεως. Θα ήταν καλό  όμως  όταν λέμε 1-3 εργάσιμες για την παράδοση να διευκρινίζουμε σε εμφανές σημείο ότι δεν μετράνε από την ημέρα της παραγγελίας  αλλά από την ημέρα της τελικής επεξεργασίας της παραγγελίας  οπότε να μην λέμε 1-3 αλλά 2 ως 4 ή οτιδήποτε άλλο ισχύει. Ο πελάτης βλέπει 1 ως 3 και καταλαβαίνει ότι το αργότερο την τρίτη εργάσιμη από την παραγγελία θα λάβει το προϊόν. Δεν είναι υποχρεωμένος να γνωρίζει τις διαδικασίες της εταιρείας  ούτε τον αφορούν. Αν χρειάζεται μια ημέρα (ή 2 ...) για επεξεργασία  ας συνυπολογισθεί στην περιγραφή της παράδοσης του προϊόντος και όχι στα ψιλά γράμματα.     ',\n",
              " 1)"
            ]
          },
          "execution_count": 15,
          "metadata": {},
          "output_type": "execute_result"
        }
      ],
      "source": [
        "# Testing the function stream_docs\n",
        "next(stream_docs(path='Skroutz_dataset.csv'))"
      ]
    },
    {
      "cell_type": "markdown",
      "metadata": {
        "id": "gcD9dn5ECGBW"
      },
      "source": [
        "# Get mini batches"
      ]
    },
    {
      "cell_type": "code",
      "execution_count": 16,
      "metadata": {
        "execution": {
          "iopub.execute_input": "2024-10-23T08:14:52.010213Z",
          "iopub.status.busy": "2024-10-23T08:14:52.009283Z",
          "iopub.status.idle": "2024-10-23T08:14:52.016689Z",
          "shell.execute_reply": "2024-10-23T08:14:52.015324Z",
          "shell.execute_reply.started": "2024-10-23T08:14:52.010151Z"
        },
        "id": "FnWJkxOuCGBW",
        "trusted": true
      },
      "outputs": [],
      "source": [
        "# Get mini batches\n",
        "def get_minibatch(doc_stream, size):\n",
        "    docs, y =[], []\n",
        "    try:\n",
        "        for _ in range(size):\n",
        "            text, label = next(doc_stream)\n",
        "            docs.append(text)\n",
        "            y.append(label)\n",
        "    except StopIteration:\n",
        "        return None, None\n",
        "    return docs, y"
      ]
    },
    {
      "cell_type": "markdown",
      "metadata": {
        "id": "rOc7oqf5CGBW"
      },
      "source": [
        "# Training the Model"
      ]
    },
    {
      "cell_type": "code",
      "execution_count": 17,
      "metadata": {
        "execution": {
          "iopub.execute_input": "2024-10-23T08:14:55.357696Z",
          "iopub.status.busy": "2024-10-23T08:14:55.357279Z",
          "iopub.status.idle": "2024-10-23T08:14:55.363021Z",
          "shell.execute_reply": "2024-10-23T08:14:55.361918Z",
          "shell.execute_reply.started": "2024-10-23T08:14:55.357654Z"
        },
        "id": "SM3tMckqCGBW",
        "trusted": true
      },
      "outputs": [],
      "source": [
        "# Training the Model\n",
        "from sklearn.feature_extraction.text import HashingVectorizer\n",
        "from sklearn.linear_model import SGDClassifier"
      ]
    },
    {
      "cell_type": "code",
      "execution_count": 18,
      "metadata": {
        "execution": {
          "iopub.execute_input": "2024-10-23T08:14:59.257051Z",
          "iopub.status.busy": "2024-10-23T08:14:59.256151Z",
          "iopub.status.idle": "2024-10-23T08:14:59.262262Z",
          "shell.execute_reply": "2024-10-23T08:14:59.261065Z",
          "shell.execute_reply.started": "2024-10-23T08:14:59.257001Z"
        },
        "id": "WnTk70NQCGBW",
        "trusted": true
      },
      "outputs": [],
      "source": [
        "vect = HashingVectorizer(decode_error='ignore', n_features=2**21, preprocessor=None, tokenizer=tokenizer)\n"
      ]
    },
    {
      "cell_type": "code",
      "execution_count": 24,
      "metadata": {
        "execution": {
          "iopub.execute_input": "2024-10-23T08:15:07.316824Z",
          "iopub.status.busy": "2024-10-23T08:15:07.316402Z",
          "iopub.status.idle": "2024-10-23T08:15:07.322580Z",
          "shell.execute_reply": "2024-10-23T08:15:07.321256Z",
          "shell.execute_reply.started": "2024-10-23T08:15:07.316784Z"
        },
        "id": "6IPstxFsCGBW",
        "trusted": true
      },
      "outputs": [],
      "source": [
        "#clf = SGDClassifier(loss='log', random_state=1, max_iter=1)\n",
        "clf = SGDClassifier(loss='log_loss', random_state=1, max_iter=1)\n",
        "#clf = SGDClassifier(loss='hinge', random_state=1, max_iter=1)"
      ]
    },
    {
      "cell_type": "code",
      "execution_count": 25,
      "metadata": {
        "execution": {
          "iopub.execute_input": "2024-10-23T08:15:24.167314Z",
          "iopub.status.busy": "2024-10-23T08:15:24.166820Z",
          "iopub.status.idle": "2024-10-23T08:15:24.172686Z",
          "shell.execute_reply": "2024-10-23T08:15:24.171490Z",
          "shell.execute_reply.started": "2024-10-23T08:15:24.167270Z"
        },
        "id": "8Kqg0AmuCGBW",
        "trusted": true
      },
      "outputs": [],
      "source": [
        "doc_stream = stream_docs(path='Skroutz_dataset.csv')"
      ]
    },
    {
      "cell_type": "code",
      "execution_count": 26,
      "metadata": {
        "execution": {
          "iopub.execute_input": "2024-10-23T08:23:51.306520Z",
          "iopub.status.busy": "2024-10-23T08:23:51.305956Z",
          "iopub.status.idle": "2024-10-23T08:23:51.312555Z",
          "shell.execute_reply": "2024-10-23T08:23:51.311241Z",
          "shell.execute_reply.started": "2024-10-23T08:23:51.306470Z"
        },
        "id": "XnG74SAWCGBW",
        "trusted": true
      },
      "outputs": [],
      "source": [
        "#!pip install pyprind\n",
        "import pyprind\n",
        "pbar = pyprind.ProgBar(45)"
      ]
    },
    {
      "cell_type": "code",
      "execution_count": 27,
      "metadata": {
        "execution": {
          "iopub.execute_input": "2024-10-23T08:23:53.879815Z",
          "iopub.status.busy": "2024-10-23T08:23:53.879386Z",
          "iopub.status.idle": "2024-10-23T08:23:53.885459Z",
          "shell.execute_reply": "2024-10-23T08:23:53.884110Z",
          "shell.execute_reply.started": "2024-10-23T08:23:53.879775Z"
        },
        "id": "02WZTwoOCGBW",
        "trusted": true
      },
      "outputs": [],
      "source": [
        "classes = np.array([0, 1])"
      ]
    },
    {
      "cell_type": "code",
      "execution_count": 28,
      "metadata": {
        "execution": {
          "iopub.execute_input": "2024-10-23T08:23:57.540634Z",
          "iopub.status.busy": "2024-10-23T08:23:57.540221Z",
          "iopub.status.idle": "2024-10-23T08:24:00.140679Z",
          "shell.execute_reply": "2024-10-23T08:24:00.139622Z",
          "shell.execute_reply.started": "2024-10-23T08:23:57.540594Z"
        },
        "id": "hNAljPKTCGBW",
        "outputId": "3ccae9ae-9b62-43a0-ac0c-2751ed486bf1",
        "trusted": true
      },
      "outputs": [
        {
          "name": "stdout",
          "output_type": "stream",
          "text": [
            "#\n",
            "##\n",
            "###\n",
            "####\n",
            "#####\n",
            "######\n"
          ]
        }
      ],
      "source": [
        "progress = \"\"\n",
        "for _ in range(6):\n",
        "    X_train, y_train = get_minibatch(doc_stream, size=1000)\n",
        "    if not X_train:\n",
        "        break;\n",
        "    X_train = vect.transform(X_train)\n",
        "    clf.partial_fit(X_train, y_train, classes=classes)\n",
        "    #pbar.update()\n",
        "    progress += \"#\"\n",
        "    print(progress)"
      ]
    },
    {
      "cell_type": "code",
      "execution_count": 29,
      "metadata": {
        "execution": {
          "iopub.execute_input": "2024-10-23T08:24:33.669274Z",
          "iopub.status.busy": "2024-10-23T08:24:33.668822Z",
          "iopub.status.idle": "2024-10-23T08:24:33.679376Z",
          "shell.execute_reply": "2024-10-23T08:24:33.678095Z",
          "shell.execute_reply.started": "2024-10-23T08:24:33.669235Z"
        },
        "id": "XXjbEipSCGBX",
        "trusted": true
      },
      "outputs": [],
      "source": [
        "# Test with the rest 552 data\n",
        "X_test, y_test = get_minibatch(doc_stream, size=552)\n",
        "X_test = vect.transform(X_test)"
      ]
    },
    {
      "cell_type": "code",
      "execution_count": 30,
      "metadata": {
        "execution": {
          "iopub.execute_input": "2024-10-23T08:24:40.719801Z",
          "iopub.status.busy": "2024-10-23T08:24:40.719367Z",
          "iopub.status.idle": "2024-10-23T08:24:40.729083Z",
          "shell.execute_reply": "2024-10-23T08:24:40.727511Z",
          "shell.execute_reply.started": "2024-10-23T08:24:40.719759Z"
        },
        "id": "xJ-DRruqCGBX",
        "outputId": "2b2e4641-e4fb-4bc3-fd03-a590ea391b4c",
        "trusted": true
      },
      "outputs": [
        {
          "name": "stdout",
          "output_type": "stream",
          "text": [
            "Accuracy: 0.947\n"
          ]
        }
      ],
      "source": [
        "print('Accuracy: %.3f' % clf.score(X_test, y_test))"
      ]
    },
    {
      "cell_type": "code",
      "execution_count": 31,
      "metadata": {
        "execution": {
          "iopub.execute_input": "2024-10-23T08:24:56.695594Z",
          "iopub.status.busy": "2024-10-23T08:24:56.695133Z",
          "iopub.status.idle": "2024-10-23T08:24:56.725469Z",
          "shell.execute_reply": "2024-10-23T08:24:56.724443Z",
          "shell.execute_reply.started": "2024-10-23T08:24:56.695556Z"
        },
        "id": "5uKOFRuPCGBX",
        "trusted": true
      },
      "outputs": [],
      "source": [
        "clf = clf.partial_fit(X_test, y_test)"
      ]
    },
    {
      "cell_type": "code",
      "execution_count": 32,
      "metadata": {
        "execution": {
          "iopub.execute_input": "2024-10-23T08:25:01.037672Z",
          "iopub.status.busy": "2024-10-23T08:25:01.037282Z",
          "iopub.status.idle": "2024-10-23T08:25:01.045970Z",
          "shell.execute_reply": "2024-10-23T08:25:01.044592Z",
          "shell.execute_reply.started": "2024-10-23T08:25:01.037637Z"
        },
        "id": "6491_S_hCGBX",
        "outputId": "a982312c-3e4e-4ad1-9479-e67dd1431f3b",
        "trusted": true
      },
      "outputs": [
        {
          "name": "stdout",
          "output_type": "stream",
          "text": [
            "Accuracy: 0.998\n"
          ]
        }
      ],
      "source": [
        "print('Accuracy: %.3f' % clf.score(X_test, y_test))"
      ]
    },
    {
      "cell_type": "markdown",
      "metadata": {
        "id": "HC5pacHdCGBX"
      },
      "source": [
        "# Testing the Model"
      ]
    },
    {
      "cell_type": "markdown",
      "metadata": {
        "id": "vKfQP4gUCGBX"
      },
      "source": [
        "### Example 1"
      ]
    },
    {
      "cell_type": "code",
      "execution_count": 33,
      "metadata": {
        "execution": {
          "iopub.execute_input": "2024-10-23T08:25:40.414721Z",
          "iopub.status.busy": "2024-10-23T08:25:40.414305Z",
          "iopub.status.idle": "2024-10-23T08:25:40.421600Z",
          "shell.execute_reply": "2024-10-23T08:25:40.420279Z",
          "shell.execute_reply.started": "2024-10-23T08:25:40.414682Z"
        },
        "id": "ox3t3-x8CGBX",
        "trusted": true
      },
      "outputs": [],
      "source": [
        "# Test\n",
        "import pandas as pd\n",
        "import numpy as np\n",
        "label = {0: 'negative', 1:'positive'}\n",
        "example = ['Πολύ καλό κατάστημα  τόσο από κοντά  όσο και εξ αποστάσεως.']\n",
        "X = vect.transform(example)"
      ]
    },
    {
      "cell_type": "code",
      "execution_count": 34,
      "metadata": {
        "execution": {
          "iopub.execute_input": "2024-10-23T08:25:51.852393Z",
          "iopub.status.busy": "2024-10-23T08:25:51.851935Z",
          "iopub.status.idle": "2024-10-23T08:25:51.861018Z",
          "shell.execute_reply": "2024-10-23T08:25:51.859798Z",
          "shell.execute_reply.started": "2024-10-23T08:25:51.852350Z"
        },
        "id": "k1gfMQwGCGBX",
        "outputId": "80b9eedd-e94e-4597-9e1c-1d351b0b9d13",
        "trusted": true
      },
      "outputs": [
        {
          "name": "stdout",
          "output_type": "stream",
          "text": [
            "Prediction: positive\n",
            "Probability: 63.80%\n"
          ]
        }
      ],
      "source": [
        "# Make a prediction\n",
        "print('Prediction: %s\\nProbability: %.2f%%' % (label[clf.predict(X)[0]], np.max(clf.predict_proba(X)) * 100))"
      ]
    },
    {
      "cell_type": "markdown",
      "metadata": {
        "id": "pjyIdxLsCGBX"
      },
      "source": [
        "### Example 2"
      ]
    },
    {
      "cell_type": "code",
      "execution_count": 35,
      "metadata": {
        "execution": {
          "iopub.execute_input": "2024-10-23T08:27:41.057075Z",
          "iopub.status.busy": "2024-10-23T08:27:41.056644Z",
          "iopub.status.idle": "2024-10-23T08:27:41.065254Z",
          "shell.execute_reply": "2024-10-23T08:27:41.064214Z",
          "shell.execute_reply.started": "2024-10-23T08:27:41.057035Z"
        },
        "id": "LaP3tZLyCGBX",
        "outputId": "9408c5ea-25a3-4a96-e4b5-ad31638eb815",
        "trusted": true
      },
      "outputs": [
        {
          "name": "stdout",
          "output_type": "stream",
          "text": [
            "Prediction: negative\n",
            "Probability: 90.55%\n"
          ]
        }
      ],
      "source": [
        "example = ['Μου αρέσει αυτό το κατάστημα γιατί είναι το χειρότερο από όλα με χάλια εξυπηρέτηση']\n",
        "X = vect.transform(example)\n",
        "# Make a prediction\n",
        "print('Prediction: %s\\nProbability: %.2f%%' % (label[clf.predict(X)[0]], np.max(clf.predict_proba(X)) * 100))"
      ]
    },
    {
      "cell_type": "markdown",
      "metadata": {
        "id": "JCCWniIrCGBX"
      },
      "source": [
        "# Save the Model"
      ]
    },
    {
      "cell_type": "code",
      "execution_count": 36,
      "metadata": {
        "execution": {
          "iopub.execute_input": "2024-10-23T08:28:08.212687Z",
          "iopub.status.busy": "2024-10-23T08:28:08.212248Z",
          "iopub.status.idle": "2024-10-23T08:28:08.217807Z",
          "shell.execute_reply": "2024-10-23T08:28:08.216426Z",
          "shell.execute_reply.started": "2024-10-23T08:28:08.212645Z"
        },
        "id": "5crDDPWsCGBX",
        "trusted": true
      },
      "outputs": [],
      "source": [
        "## Save the Model\n",
        "import pickle\n",
        "import os"
      ]
    },
    {
      "cell_type": "code",
      "execution_count": 37,
      "metadata": {
        "execution": {
          "iopub.execute_input": "2024-10-23T08:29:01.527794Z",
          "iopub.status.busy": "2024-10-23T08:29:01.527237Z",
          "iopub.status.idle": "2024-10-23T08:29:01.533868Z",
          "shell.execute_reply": "2024-10-23T08:29:01.532744Z",
          "shell.execute_reply.started": "2024-10-23T08:29:01.527743Z"
        },
        "id": "DZ422e9jCGBX",
        "trusted": true
      },
      "outputs": [],
      "source": [
        "dest = os.path.join('reviewsclassifier', 'pkl_objects')\n",
        "if not os.path.exists(dest):\n",
        "    os.makedirs(dest)"
      ]
    },
    {
      "cell_type": "code",
      "execution_count": 38,
      "metadata": {
        "execution": {
          "iopub.execute_input": "2024-10-23T08:29:48.842291Z",
          "iopub.status.busy": "2024-10-23T08:29:48.841103Z",
          "iopub.status.idle": "2024-10-23T08:29:48.848289Z",
          "shell.execute_reply": "2024-10-23T08:29:48.847016Z",
          "shell.execute_reply.started": "2024-10-23T08:29:48.842238Z"
        },
        "id": "_fG9A9kwCGBY",
        "trusted": true
      },
      "outputs": [],
      "source": [
        "pickle.dump(greek_stopwords, open(os.path.join(dest, 'greek_stopwords.pkl'), 'wb'), protocol=4)"
      ]
    },
    {
      "cell_type": "code",
      "execution_count": 39,
      "metadata": {
        "execution": {
          "iopub.execute_input": "2024-10-23T08:30:06.186078Z",
          "iopub.status.busy": "2024-10-23T08:30:06.185639Z",
          "iopub.status.idle": "2024-10-23T08:30:06.222554Z",
          "shell.execute_reply": "2024-10-23T08:30:06.221123Z",
          "shell.execute_reply.started": "2024-10-23T08:30:06.186038Z"
        },
        "id": "v-GPK7z5CGBY",
        "trusted": true
      },
      "outputs": [],
      "source": [
        "pickle.dump(clf, open(os.path.join(dest,'classifier_greek_language.pkl'), 'wb'), protocol=4)"
      ]
    },
    {
      "cell_type": "markdown",
      "metadata": {
        "id": "XygM3lpJCGBY"
      },
      "source": [
        "# Test the saved model"
      ]
    },
    {
      "cell_type": "code",
      "execution_count": 40,
      "metadata": {
        "execution": {
          "iopub.execute_input": "2024-10-23T08:30:25.751360Z",
          "iopub.status.busy": "2024-10-23T08:30:25.750388Z",
          "iopub.status.idle": "2024-10-23T08:30:25.756478Z",
          "shell.execute_reply": "2024-10-23T08:30:25.755234Z",
          "shell.execute_reply.started": "2024-10-23T08:30:25.751306Z"
        },
        "id": "COlE2TwyCGBZ",
        "trusted": true
      },
      "outputs": [],
      "source": [
        "# Test the saved model\n",
        "from sklearn.feature_extraction.text import HashingVectorizer\n",
        "import re\n",
        "import os\n",
        "import pickle\n",
        "import numpy as np"
      ]
    },
    {
      "cell_type": "code",
      "execution_count": 41,
      "metadata": {
        "execution": {
          "iopub.execute_input": "2024-10-23T08:32:11.882873Z",
          "iopub.status.busy": "2024-10-23T08:32:11.882435Z",
          "iopub.status.idle": "2024-10-23T08:32:11.889338Z",
          "shell.execute_reply": "2024-10-23T08:32:11.888078Z",
          "shell.execute_reply.started": "2024-10-23T08:32:11.882833Z"
        },
        "id": "6FOlQGvhCGBZ",
        "trusted": true
      },
      "outputs": [],
      "source": [
        "files_dir = 'reviewsclassifier'\n",
        "stop = pickle.load(open(os.path.join(files_dir, 'pkl_objects', 'greek_stopwords.pkl'), 'rb'))"
      ]
    },
    {
      "cell_type": "code",
      "execution_count": 43,
      "metadata": {
        "execution": {
          "iopub.execute_input": "2024-10-23T08:32:21.950767Z",
          "iopub.status.busy": "2024-10-23T08:32:21.950324Z",
          "iopub.status.idle": "2024-10-23T08:32:21.957511Z",
          "shell.execute_reply": "2024-10-23T08:32:21.956258Z",
          "shell.execute_reply.started": "2024-10-23T08:32:21.950725Z"
        },
        "id": "9sxJmsDhCGBZ",
        "trusted": true
      },
      "outputs": [],
      "source": [
        "def tokenizer(text):\n",
        "    text = re.sub('<[^>]*>', '', text)\n",
        "    emotions = re.findall('(?::|;|=)(?:-)?(?:\\\\)|\\\\)|D|P)', text)\n",
        "    text = re.sub('[\\\\W]+', ' ', text.lower()) + ' '.join(emotions).replace('-','')\n",
        "    tokenized = [w for w in text.split() if w not in stop]\n",
        "    return tokenized\n",
        "\n",
        "# # remove any html characters\n",
        "# def tokenizer(text):\n",
        "#     text = re.sub('<[^>]*>', '', text)\n",
        "#     emotions = re.findall('(?::|;|=)(?:-)?(?:\\\\)|\\\\)|D|P)', text)\n",
        "#     text = re.sub('[\\\\W]+', ' ', text.lower()) + ' '.join(emotions).replace('-','')\n",
        "#     tokenized = [w for w in text.split() if w not in greek_stopwords]\n",
        "#     return tokenized"
      ]
    },
    {
      "cell_type": "code",
      "execution_count": 44,
      "metadata": {
        "execution": {
          "iopub.execute_input": "2024-10-23T08:32:27.771312Z",
          "iopub.status.busy": "2024-10-23T08:32:27.770855Z",
          "iopub.status.idle": "2024-10-23T08:32:27.777014Z",
          "shell.execute_reply": "2024-10-23T08:32:27.775611Z",
          "shell.execute_reply.started": "2024-10-23T08:32:27.771270Z"
        },
        "id": "bbDediCeCGBZ",
        "trusted": true
      },
      "outputs": [],
      "source": [
        "vect = HashingVectorizer(decode_error='ignore', n_features=2**21, preprocessor=None, tokenizer=tokenizer)"
      ]
    },
    {
      "cell_type": "code",
      "execution_count": 45,
      "metadata": {
        "execution": {
          "iopub.execute_input": "2024-10-23T08:32:37.079077Z",
          "iopub.status.busy": "2024-10-23T08:32:37.078061Z",
          "iopub.status.idle": "2024-10-23T08:32:37.098387Z",
          "shell.execute_reply": "2024-10-23T08:32:37.097265Z",
          "shell.execute_reply.started": "2024-10-23T08:32:37.079025Z"
        },
        "id": "81WNDlHuCGBZ",
        "trusted": true
      },
      "outputs": [],
      "source": [
        "clf = pickle.load(open(os.path.join(files_dir, 'pkl_objects', 'classifier_greek_language.pkl'), 'rb'))"
      ]
    },
    {
      "cell_type": "markdown",
      "metadata": {
        "id": "mYBwUwqcCGBZ"
      },
      "source": [
        "### Example 1 with Positive review"
      ]
    },
    {
      "cell_type": "code",
      "execution_count": 46,
      "metadata": {
        "execution": {
          "iopub.execute_input": "2024-10-23T08:33:04.463055Z",
          "iopub.status.busy": "2024-10-23T08:33:04.462643Z",
          "iopub.status.idle": "2024-10-23T08:33:04.469826Z",
          "shell.execute_reply": "2024-10-23T08:33:04.468395Z",
          "shell.execute_reply.started": "2024-10-23T08:33:04.463016Z"
        },
        "id": "McCNQe6xCGBZ",
        "trusted": true
      },
      "outputs": [],
      "source": [
        "label = {0:'negative',1:'positive'}\n",
        "example = ['Πολύ καλή εξυπηρέτηση και γρήγορη παράδοση']\n",
        "X = vect.transform(example)"
      ]
    },
    {
      "cell_type": "code",
      "execution_count": 47,
      "metadata": {
        "execution": {
          "iopub.execute_input": "2024-10-23T08:33:11.005721Z",
          "iopub.status.busy": "2024-10-23T08:33:11.005298Z",
          "iopub.status.idle": "2024-10-23T08:33:11.013100Z",
          "shell.execute_reply": "2024-10-23T08:33:11.011924Z",
          "shell.execute_reply.started": "2024-10-23T08:33:11.005681Z"
        },
        "id": "ZApflD71CGBZ",
        "outputId": "6eebd0bb-c0a3-42aa-9786-765c05ea7ab4",
        "trusted": true
      },
      "outputs": [
        {
          "name": "stdout",
          "output_type": "stream",
          "text": [
            "Prediction: positive\n",
            "Probability: 99.02%\n"
          ]
        }
      ],
      "source": [
        "print('Prediction: %s\\nProbability: %.2f%%' % (label[clf.predict(X)[0]], np.max(clf.predict_proba(X)) * 100))"
      ]
    },
    {
      "cell_type": "markdown",
      "metadata": {
        "id": "5-Cp29YfCGBZ"
      },
      "source": [
        "### Example 2 with Negative review"
      ]
    },
    {
      "cell_type": "code",
      "execution_count": 48,
      "metadata": {
        "execution": {
          "iopub.execute_input": "2024-10-23T08:35:12.373795Z",
          "iopub.status.busy": "2024-10-23T08:35:12.373378Z",
          "iopub.status.idle": "2024-10-23T08:35:12.382564Z",
          "shell.execute_reply": "2024-10-23T08:35:12.381132Z",
          "shell.execute_reply.started": "2024-10-23T08:35:12.373759Z"
        },
        "id": "59iCvSnsCGBZ",
        "outputId": "deef8839-7f72-4fe3-ee57-dd92005ee20d",
        "trusted": true
      },
      "outputs": [
        {
          "name": "stdout",
          "output_type": "stream",
          "text": [
            "Prediction: negative\n",
            "Probability: 95.51%\n"
          ]
        }
      ],
      "source": [
        "label = {0:'negative',1:'positive'}\n",
        "example = ['το προϊόν δεν ήρθε ποτέ και δεν μας επιστράφηκαν τα χρήματα']\n",
        "X = vect.transform(example)\n",
        "print('Prediction: %s\\nProbability: %.2f%%' % (label[clf.predict(X)[0]], np.max(clf.predict_proba(X)) * 100))"
      ]
    }
  ],
  "metadata": {
    "colab": {
      "provenance": []
    },
    "kaggle": {
      "accelerator": "none",
      "dataSources": [
        {
          "datasetId": 1755999,
          "sourceId": 2867483,
          "sourceType": "datasetVersion"
        }
      ],
      "dockerImageVersionId": 30786,
      "isGpuEnabled": false,
      "isInternetEnabled": false,
      "language": "python",
      "sourceType": "notebook"
    },
    "kernelspec": {
      "display_name": ".venv",
      "language": "python",
      "name": "python3"
    },
    "language_info": {
      "codemirror_mode": {
        "name": "ipython",
        "version": 3
      },
      "file_extension": ".py",
      "mimetype": "text/x-python",
      "name": "python",
      "nbconvert_exporter": "python",
      "pygments_lexer": "ipython3",
      "version": "3.12.8"
    }
  },
  "nbformat": 4,
  "nbformat_minor": 0
}
