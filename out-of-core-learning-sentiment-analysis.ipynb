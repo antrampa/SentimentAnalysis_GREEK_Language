{
 "cells": [
  {
   "cell_type": "markdown",
   "metadata": {},
   "source": [
    "# Sentiment Analysis of orders reviews in Greek \n",
    "### Out-of-core-Learning "
   ]
  },
  {
   "cell_type": "code",
   "execution_count": 1,
   "metadata": {
    "_cell_guid": "b1076dfc-b9ad-4769-8c92-a6c4dae69d19",
    "_uuid": "8f2839f25d086af736a60e9eeb907d3b93b6e0e5",
    "execution": {
     "iopub.execute_input": "2024-10-23T07:40:00.864918Z",
     "iopub.status.busy": "2024-10-23T07:40:00.864441Z",
     "iopub.status.idle": "2024-10-23T07:40:02.798619Z",
     "shell.execute_reply": "2024-10-23T07:40:02.797270Z",
     "shell.execute_reply.started": "2024-10-23T07:40:00.864860Z"
    },
    "trusted": true
   },
   "outputs": [
    {
     "name": "stdout",
     "output_type": "stream",
     "text": [
      "/kaggle/input/skroutz-shop-reviews-sentiment-analysis/Skroutz_dataset.xlsx\n"
     ]
    }
   ],
   "source": [
    "#Import libraries\n",
    "import numpy as np # linear algebra\n",
    "import pandas as pd # data processing, CSV file I/O (e.g. pd.read_csv)\n",
    "import re\n",
    "from nltk.corpus import stopwords\n",
    "\n",
    "import os\n",
    "for dirname, _, filenames in os.walk('/kaggle/input'):\n",
    "    for filename in filenames:\n",
    "        print(os.path.join(dirname, filename))\n",
    "\n",
    "file_path = \"/kaggle/input/skroutz-shop-reviews-sentiment-analysis/Skroutz_dataset.xlsx\""
   ]
  },
  {
   "cell_type": "code",
   "execution_count": 42,
   "metadata": {
    "execution": {
     "iopub.execute_input": "2024-10-23T08:08:53.021246Z",
     "iopub.status.busy": "2024-10-23T08:08:53.020783Z",
     "iopub.status.idle": "2024-10-23T08:08:53.688574Z",
     "shell.execute_reply": "2024-10-23T08:08:53.687465Z",
     "shell.execute_reply.started": "2024-10-23T08:08:53.021202Z"
    },
    "trusted": true
   },
   "outputs": [
    {
     "data": {
      "text/html": [
       "<div>\n",
       "<style scoped>\n",
       "    .dataframe tbody tr th:only-of-type {\n",
       "        vertical-align: middle;\n",
       "    }\n",
       "\n",
       "    .dataframe tbody tr th {\n",
       "        vertical-align: top;\n",
       "    }\n",
       "\n",
       "    .dataframe thead th {\n",
       "        text-align: right;\n",
       "    }\n",
       "</style>\n",
       "<table border=\"1\" class=\"dataframe\">\n",
       "  <thead>\n",
       "    <tr style=\"text-align: right;\">\n",
       "      <th></th>\n",
       "      <th>id</th>\n",
       "      <th>review</th>\n",
       "      <th>label</th>\n",
       "    </tr>\n",
       "  </thead>\n",
       "  <tbody>\n",
       "    <tr>\n",
       "      <th>0</th>\n",
       "      <td>0</td>\n",
       "      <td>Πολύ καλό κατάστημα  τόσο από κοντά  όσο και...</td>\n",
       "      <td>Positive</td>\n",
       "    </tr>\n",
       "    <tr>\n",
       "      <th>1</th>\n",
       "      <td>1</td>\n",
       "      <td>Γρήγορη παραλαβή και φιλική εξυπηρέτηση.</td>\n",
       "      <td>Positive</td>\n",
       "    </tr>\n",
       "    <tr>\n",
       "      <th>2</th>\n",
       "      <td>2</td>\n",
       "      <td>Εύκολα γρήγορα απλά.  Το προϊόν όπως περιγρά...</td>\n",
       "      <td>Positive</td>\n",
       "    </tr>\n",
       "    <tr>\n",
       "      <th>3</th>\n",
       "      <td>3</td>\n",
       "      <td>Πολύ ευχαριστημένη με την παράδοση. Επικοινω...</td>\n",
       "      <td>Positive</td>\n",
       "    </tr>\n",
       "    <tr>\n",
       "      <th>4</th>\n",
       "      <td>4</td>\n",
       "      <td>Όλα πήγαν καλά με την παραγγελία μου. Θα αγο...</td>\n",
       "      <td>Positive</td>\n",
       "    </tr>\n",
       "  </tbody>\n",
       "</table>\n",
       "</div>"
      ],
      "text/plain": [
       "   id                                             review     label\n",
       "0   0    Πολύ καλό κατάστημα  τόσο από κοντά  όσο και...  Positive\n",
       "1   1      Γρήγορη παραλαβή και φιλική εξυπηρέτηση.       Positive\n",
       "2   2    Εύκολα γρήγορα απλά.  Το προϊόν όπως περιγρά...  Positive\n",
       "3   3    Πολύ ευχαριστημένη με την παράδοση. Επικοινω...  Positive\n",
       "4   4    Όλα πήγαν καλά με την παραγγελία μου. Θα αγο...  Positive"
      ]
     },
     "execution_count": 42,
     "metadata": {},
     "output_type": "execute_result"
    }
   ],
   "source": [
    "df = pd.read_excel(file_path)\n",
    "df.head()"
   ]
  },
  {
   "cell_type": "code",
   "execution_count": 31,
   "metadata": {
    "execution": {
     "iopub.execute_input": "2024-10-23T08:07:19.159295Z",
     "iopub.status.busy": "2024-10-23T08:07:19.158811Z",
     "iopub.status.idle": "2024-10-23T08:07:19.169589Z",
     "shell.execute_reply": "2024-10-23T08:07:19.168443Z",
     "shell.execute_reply.started": "2024-10-23T08:07:19.159254Z"
    },
    "trusted": true
   },
   "outputs": [
    {
     "data": {
      "text/plain": [
       "id        0\n",
       "review    0\n",
       "label     0\n",
       "dtype: int64"
      ]
     },
     "execution_count": 31,
     "metadata": {},
     "output_type": "execute_result"
    }
   ],
   "source": [
    "df.isna().sum()"
   ]
  },
  {
   "cell_type": "code",
   "execution_count": 43,
   "metadata": {
    "execution": {
     "iopub.execute_input": "2024-10-23T08:08:58.105599Z",
     "iopub.status.busy": "2024-10-23T08:08:58.105145Z",
     "iopub.status.idle": "2024-10-23T08:08:58.118405Z",
     "shell.execute_reply": "2024-10-23T08:08:58.117124Z",
     "shell.execute_reply.started": "2024-10-23T08:08:58.105552Z"
    },
    "trusted": true
   },
   "outputs": [
    {
     "data": {
      "text/html": [
       "<div>\n",
       "<style scoped>\n",
       "    .dataframe tbody tr th:only-of-type {\n",
       "        vertical-align: middle;\n",
       "    }\n",
       "\n",
       "    .dataframe tbody tr th {\n",
       "        vertical-align: top;\n",
       "    }\n",
       "\n",
       "    .dataframe thead th {\n",
       "        text-align: right;\n",
       "    }\n",
       "</style>\n",
       "<table border=\"1\" class=\"dataframe\">\n",
       "  <thead>\n",
       "    <tr style=\"text-align: right;\">\n",
       "      <th></th>\n",
       "      <th>review</th>\n",
       "      <th>label</th>\n",
       "    </tr>\n",
       "  </thead>\n",
       "  <tbody>\n",
       "    <tr>\n",
       "      <th>0</th>\n",
       "      <td>Πολύ καλό κατάστημα  τόσο από κοντά  όσο και...</td>\n",
       "      <td>Positive</td>\n",
       "    </tr>\n",
       "    <tr>\n",
       "      <th>1</th>\n",
       "      <td>Γρήγορη παραλαβή και φιλική εξυπηρέτηση.</td>\n",
       "      <td>Positive</td>\n",
       "    </tr>\n",
       "    <tr>\n",
       "      <th>2</th>\n",
       "      <td>Εύκολα γρήγορα απλά.  Το προϊόν όπως περιγρά...</td>\n",
       "      <td>Positive</td>\n",
       "    </tr>\n",
       "    <tr>\n",
       "      <th>3</th>\n",
       "      <td>Πολύ ευχαριστημένη με την παράδοση. Επικοινω...</td>\n",
       "      <td>Positive</td>\n",
       "    </tr>\n",
       "    <tr>\n",
       "      <th>4</th>\n",
       "      <td>Όλα πήγαν καλά με την παραγγελία μου. Θα αγο...</td>\n",
       "      <td>Positive</td>\n",
       "    </tr>\n",
       "  </tbody>\n",
       "</table>\n",
       "</div>"
      ],
      "text/plain": [
       "                                              review     label\n",
       "0    Πολύ καλό κατάστημα  τόσο από κοντά  όσο και...  Positive\n",
       "1      Γρήγορη παραλαβή και φιλική εξυπηρέτηση.       Positive\n",
       "2    Εύκολα γρήγορα απλά.  Το προϊόν όπως περιγρά...  Positive\n",
       "3    Πολύ ευχαριστημένη με την παράδοση. Επικοινω...  Positive\n",
       "4    Όλα πήγαν καλά με την παραγγελία μου. Θα αγο...  Positive"
      ]
     },
     "execution_count": 43,
     "metadata": {},
     "output_type": "execute_result"
    }
   ],
   "source": [
    "df.drop(['id'], axis=1, inplace=True)\n",
    "df.head()"
   ]
  },
  {
   "cell_type": "code",
   "execution_count": 38,
   "metadata": {
    "execution": {
     "iopub.execute_input": "2024-10-23T08:08:26.392924Z",
     "iopub.status.busy": "2024-10-23T08:08:26.392533Z",
     "iopub.status.idle": "2024-10-23T08:08:26.403830Z",
     "shell.execute_reply": "2024-10-23T08:08:26.402729Z",
     "shell.execute_reply.started": "2024-10-23T08:08:26.392887Z"
    },
    "trusted": true
   },
   "outputs": [
    {
     "data": {
      "text/html": [
       "<div>\n",
       "<style scoped>\n",
       "    .dataframe tbody tr th:only-of-type {\n",
       "        vertical-align: middle;\n",
       "    }\n",
       "\n",
       "    .dataframe tbody tr th {\n",
       "        vertical-align: top;\n",
       "    }\n",
       "\n",
       "    .dataframe thead th {\n",
       "        text-align: right;\n",
       "    }\n",
       "</style>\n",
       "<table border=\"1\" class=\"dataframe\">\n",
       "  <thead>\n",
       "    <tr style=\"text-align: right;\">\n",
       "      <th></th>\n",
       "      <th>id</th>\n",
       "      <th>review</th>\n",
       "      <th>label</th>\n",
       "    </tr>\n",
       "  </thead>\n",
       "  <tbody>\n",
       "    <tr>\n",
       "      <th>6547</th>\n",
       "      <td>6547</td>\n",
       "      <td>Παράγγειλα κινητό 1 έως 3 εργάσιμες   ήθελα ...</td>\n",
       "      <td>Negative</td>\n",
       "    </tr>\n",
       "    <tr>\n",
       "      <th>6548</th>\n",
       "      <td>6548</td>\n",
       "      <td>Έχει επιλογές για έκδοση τιμολογίου. Σε αφήν...</td>\n",
       "      <td>Negative</td>\n",
       "    </tr>\n",
       "    <tr>\n",
       "      <th>6549</th>\n",
       "      <td>6549</td>\n",
       "      <td>Η παραγγελία ήταν ένα Huawei p10 lite gold e...</td>\n",
       "      <td>Negative</td>\n",
       "    </tr>\n",
       "    <tr>\n",
       "      <th>6550</th>\n",
       "      <td>6550</td>\n",
       "      <td>Καθυστέρησαν να μου στείλουν την παραγγελία....</td>\n",
       "      <td>Negative</td>\n",
       "    </tr>\n",
       "    <tr>\n",
       "      <th>6551</th>\n",
       "      <td>6551</td>\n",
       "      <td>Δεν ξέρω ακόμη αν θα μου στείλουν το προϊόν!...</td>\n",
       "      <td>Negative</td>\n",
       "    </tr>\n",
       "  </tbody>\n",
       "</table>\n",
       "</div>"
      ],
      "text/plain": [
       "        id                                             review     label\n",
       "6547  6547    Παράγγειλα κινητό 1 έως 3 εργάσιμες   ήθελα ...  Negative\n",
       "6548  6548    Έχει επιλογές για έκδοση τιμολογίου. Σε αφήν...  Negative\n",
       "6549  6549    Η παραγγελία ήταν ένα Huawei p10 lite gold e...  Negative\n",
       "6550  6550    Καθυστέρησαν να μου στείλουν την παραγγελία....  Negative\n",
       "6551  6551    Δεν ξέρω ακόμη αν θα μου στείλουν το προϊόν!...  Negative"
      ]
     },
     "execution_count": 38,
     "metadata": {},
     "output_type": "execute_result"
    }
   ],
   "source": [
    "df.tail()"
   ]
  },
  {
   "cell_type": "code",
   "execution_count": 44,
   "metadata": {
    "execution": {
     "iopub.execute_input": "2024-10-23T08:09:03.030628Z",
     "iopub.status.busy": "2024-10-23T08:09:03.030226Z",
     "iopub.status.idle": "2024-10-23T08:09:03.047428Z",
     "shell.execute_reply": "2024-10-23T08:09:03.046259Z",
     "shell.execute_reply.started": "2024-10-23T08:09:03.030591Z"
    },
    "trusted": true
   },
   "outputs": [
    {
     "name": "stderr",
     "output_type": "stream",
     "text": [
      "/tmp/ipykernel_30/2419573970.py:1: FutureWarning: A value is trying to be set on a copy of a DataFrame or Series through chained assignment using an inplace method.\n",
      "The behavior will change in pandas 3.0. This inplace method will never work because the intermediate object on which we are setting values always behaves as a copy.\n",
      "\n",
      "For example, when doing 'df[col].method(value, inplace=True)', try using 'df.method({col: value}, inplace=True)' or df[col] = df[col].method(value) instead, to perform the operation inplace on the original object.\n",
      "\n",
      "\n",
      "  df['label'].replace({'Negative':0, 'Positive':1}, inplace=True)\n",
      "/tmp/ipykernel_30/2419573970.py:1: FutureWarning: Downcasting behavior in `replace` is deprecated and will be removed in a future version. To retain the old behavior, explicitly call `result.infer_objects(copy=False)`. To opt-in to the future behavior, set `pd.set_option('future.no_silent_downcasting', True)`\n",
      "  df['label'].replace({'Negative':0, 'Positive':1}, inplace=True)\n"
     ]
    },
    {
     "data": {
      "text/html": [
       "<div>\n",
       "<style scoped>\n",
       "    .dataframe tbody tr th:only-of-type {\n",
       "        vertical-align: middle;\n",
       "    }\n",
       "\n",
       "    .dataframe tbody tr th {\n",
       "        vertical-align: top;\n",
       "    }\n",
       "\n",
       "    .dataframe thead th {\n",
       "        text-align: right;\n",
       "    }\n",
       "</style>\n",
       "<table border=\"1\" class=\"dataframe\">\n",
       "  <thead>\n",
       "    <tr style=\"text-align: right;\">\n",
       "      <th></th>\n",
       "      <th>review</th>\n",
       "      <th>label</th>\n",
       "    </tr>\n",
       "  </thead>\n",
       "  <tbody>\n",
       "    <tr>\n",
       "      <th>0</th>\n",
       "      <td>Πολύ καλό κατάστημα  τόσο από κοντά  όσο και...</td>\n",
       "      <td>1</td>\n",
       "    </tr>\n",
       "    <tr>\n",
       "      <th>1</th>\n",
       "      <td>Γρήγορη παραλαβή και φιλική εξυπηρέτηση.</td>\n",
       "      <td>1</td>\n",
       "    </tr>\n",
       "    <tr>\n",
       "      <th>2</th>\n",
       "      <td>Εύκολα γρήγορα απλά.  Το προϊόν όπως περιγρά...</td>\n",
       "      <td>1</td>\n",
       "    </tr>\n",
       "    <tr>\n",
       "      <th>3</th>\n",
       "      <td>Πολύ ευχαριστημένη με την παράδοση. Επικοινω...</td>\n",
       "      <td>1</td>\n",
       "    </tr>\n",
       "    <tr>\n",
       "      <th>4</th>\n",
       "      <td>Όλα πήγαν καλά με την παραγγελία μου. Θα αγο...</td>\n",
       "      <td>1</td>\n",
       "    </tr>\n",
       "  </tbody>\n",
       "</table>\n",
       "</div>"
      ],
      "text/plain": [
       "                                              review  label\n",
       "0    Πολύ καλό κατάστημα  τόσο από κοντά  όσο και...      1\n",
       "1      Γρήγορη παραλαβή και φιλική εξυπηρέτηση.           1\n",
       "2    Εύκολα γρήγορα απλά.  Το προϊόν όπως περιγρά...      1\n",
       "3    Πολύ ευχαριστημένη με την παράδοση. Επικοινω...      1\n",
       "4    Όλα πήγαν καλά με την παραγγελία μου. Θα αγο...      1"
      ]
     },
     "execution_count": 44,
     "metadata": {},
     "output_type": "execute_result"
    }
   ],
   "source": [
    "df['label'].replace({'Negative':0, 'Positive':1}, inplace=True)\n",
    "df.head()"
   ]
  },
  {
   "cell_type": "code",
   "execution_count": 45,
   "metadata": {
    "execution": {
     "iopub.execute_input": "2024-10-23T08:09:06.419885Z",
     "iopub.status.busy": "2024-10-23T08:09:06.419075Z",
     "iopub.status.idle": "2024-10-23T08:09:06.558709Z",
     "shell.execute_reply": "2024-10-23T08:09:06.557611Z",
     "shell.execute_reply.started": "2024-10-23T08:09:06.419834Z"
    },
    "trusted": true
   },
   "outputs": [],
   "source": [
    "df.to_csv('Skroutz_dataset.csv')"
   ]
  },
  {
   "cell_type": "code",
   "execution_count": 46,
   "metadata": {
    "execution": {
     "iopub.execute_input": "2024-10-23T08:09:08.860155Z",
     "iopub.status.busy": "2024-10-23T08:09:08.859726Z",
     "iopub.status.idle": "2024-10-23T08:09:08.995928Z",
     "shell.execute_reply": "2024-10-23T08:09:08.994848Z",
     "shell.execute_reply.started": "2024-10-23T08:09:08.860114Z"
    },
    "trusted": true
   },
   "outputs": [
    {
     "data": {
      "text/html": [
       "<div>\n",
       "<style scoped>\n",
       "    .dataframe tbody tr th:only-of-type {\n",
       "        vertical-align: middle;\n",
       "    }\n",
       "\n",
       "    .dataframe tbody tr th {\n",
       "        vertical-align: top;\n",
       "    }\n",
       "\n",
       "    .dataframe thead th {\n",
       "        text-align: right;\n",
       "    }\n",
       "</style>\n",
       "<table border=\"1\" class=\"dataframe\">\n",
       "  <thead>\n",
       "    <tr style=\"text-align: right;\">\n",
       "      <th></th>\n",
       "      <th>Unnamed: 0</th>\n",
       "      <th>review</th>\n",
       "      <th>label</th>\n",
       "    </tr>\n",
       "  </thead>\n",
       "  <tbody>\n",
       "    <tr>\n",
       "      <th>0</th>\n",
       "      <td>0</td>\n",
       "      <td>Πολύ καλό κατάστημα  τόσο από κοντά  όσο και...</td>\n",
       "      <td>1</td>\n",
       "    </tr>\n",
       "    <tr>\n",
       "      <th>1</th>\n",
       "      <td>1</td>\n",
       "      <td>Γρήγορη παραλαβή και φιλική εξυπηρέτηση.</td>\n",
       "      <td>1</td>\n",
       "    </tr>\n",
       "    <tr>\n",
       "      <th>2</th>\n",
       "      <td>2</td>\n",
       "      <td>Εύκολα γρήγορα απλά.  Το προϊόν όπως περιγρά...</td>\n",
       "      <td>1</td>\n",
       "    </tr>\n",
       "    <tr>\n",
       "      <th>3</th>\n",
       "      <td>3</td>\n",
       "      <td>Πολύ ευχαριστημένη με την παράδοση. Επικοινω...</td>\n",
       "      <td>1</td>\n",
       "    </tr>\n",
       "    <tr>\n",
       "      <th>4</th>\n",
       "      <td>4</td>\n",
       "      <td>Όλα πήγαν καλά με την παραγγελία μου. Θα αγο...</td>\n",
       "      <td>1</td>\n",
       "    </tr>\n",
       "  </tbody>\n",
       "</table>\n",
       "</div>"
      ],
      "text/plain": [
       "   Unnamed: 0                                             review  label\n",
       "0           0    Πολύ καλό κατάστημα  τόσο από κοντά  όσο και...      1\n",
       "1           1      Γρήγορη παραλαβή και φιλική εξυπηρέτηση.           1\n",
       "2           2    Εύκολα γρήγορα απλά.  Το προϊόν όπως περιγρά...      1\n",
       "3           3    Πολύ ευχαριστημένη με την παράδοση. Επικοινω...      1\n",
       "4           4    Όλα πήγαν καλά με την παραγγελία μου. Θα αγο...      1"
      ]
     },
     "execution_count": 46,
     "metadata": {},
     "output_type": "execute_result"
    }
   ],
   "source": [
    "data = pd.read_csv('/kaggle/working/Skroutz_dataset.csv')\n",
    "data.head()"
   ]
  },
  {
   "cell_type": "code",
   "execution_count": 47,
   "metadata": {
    "execution": {
     "iopub.execute_input": "2024-10-23T08:09:13.421993Z",
     "iopub.status.busy": "2024-10-23T08:09:13.421560Z",
     "iopub.status.idle": "2024-10-23T08:09:13.431947Z",
     "shell.execute_reply": "2024-10-23T08:09:13.430929Z",
     "shell.execute_reply.started": "2024-10-23T08:09:13.421952Z"
    },
    "trusted": true
   },
   "outputs": [],
   "source": [
    "greek_stopwords = stopwords.words('greek')"
   ]
  },
  {
   "cell_type": "code",
   "execution_count": 56,
   "metadata": {
    "execution": {
     "iopub.execute_input": "2024-10-23T08:14:36.034963Z",
     "iopub.status.busy": "2024-10-23T08:14:36.034190Z",
     "iopub.status.idle": "2024-10-23T08:14:36.041195Z",
     "shell.execute_reply": "2024-10-23T08:14:36.039932Z",
     "shell.execute_reply.started": "2024-10-23T08:14:36.034906Z"
    },
    "trusted": true
   },
   "outputs": [],
   "source": [
    "# remove any html characters \n",
    "def tokenizer(text): \n",
    "    text = re.sub('<[^>]*>', '', text)\n",
    "    emotions = re.findall('(?::|;|=)(?:-)?(?:\\)|\\)|D|P)', text)\n",
    "    text = re.sub('[\\W]+', ' ', text.lower()) + ' '.join(emotions).replace('-','')\n",
    "    tokenized = [w for w in text.split() if w not in greek_stopwords]\n",
    "    return tokenized"
   ]
  },
  {
   "cell_type": "code",
   "execution_count": 57,
   "metadata": {
    "execution": {
     "iopub.execute_input": "2024-10-23T08:14:41.420431Z",
     "iopub.status.busy": "2024-10-23T08:14:41.420005Z",
     "iopub.status.idle": "2024-10-23T08:14:41.426383Z",
     "shell.execute_reply": "2024-10-23T08:14:41.425014Z",
     "shell.execute_reply.started": "2024-10-23T08:14:41.420392Z"
    },
    "trusted": true
   },
   "outputs": [],
   "source": [
    "# Generate stream_docs\n",
    "def stream_docs(path):\n",
    "    with open(path, 'r', encoding='utf-8') as csv:\n",
    "        next(csv) # skip header\n",
    "        for line in csv:\n",
    "            text, label = line[:-3], int(line[-2])\n",
    "            yield text, label"
   ]
  },
  {
   "cell_type": "code",
   "execution_count": 58,
   "metadata": {
    "execution": {
     "iopub.execute_input": "2024-10-23T08:14:48.255081Z",
     "iopub.status.busy": "2024-10-23T08:14:48.254653Z",
     "iopub.status.idle": "2024-10-23T08:14:48.262893Z",
     "shell.execute_reply": "2024-10-23T08:14:48.261645Z",
     "shell.execute_reply.started": "2024-10-23T08:14:48.255042Z"
    },
    "trusted": true
   },
   "outputs": [
    {
     "data": {
      "text/plain": [
       "('0,  Πολύ καλό κατάστημα  τόσο από κοντά  όσο και εξ αποστάσεως. Θα ήταν καλό  όμως  όταν λέμε 1-3 εργάσιμες για την παράδοση να διευκρινίζουμε σε εμφανές σημείο ότι δεν μετράνε από την ημέρα της παραγγελίας  αλλά από την ημέρα της τελικής επεξεργασίας της παραγγελίας  οπότε να μην λέμε 1-3 αλλά 2 ως 4 ή οτιδήποτε άλλο ισχύει. Ο πελάτης βλέπει 1 ως 3 και καταλαβαίνει ότι το αργότερο την τρίτη εργάσιμη από την παραγγελία θα λάβει το προϊόν. Δεν είναι υποχρεωμένος να γνωρίζει τις διαδικασίες της εταιρείας  ούτε τον αφορούν. Αν χρειάζεται μια ημέρα (ή 2 ...) για επεξεργασία  ας συνυπολογισθεί στην περιγραφή της παράδοσης του προϊόντος και όχι στα ψιλά γράμματα.     ',\n",
       " 1)"
      ]
     },
     "execution_count": 58,
     "metadata": {},
     "output_type": "execute_result"
    }
   ],
   "source": [
    "# Testing the function stream_docs\n",
    "next(stream_docs(path='/kaggle/working/Skroutz_dataset.csv'))"
   ]
  },
  {
   "cell_type": "markdown",
   "metadata": {},
   "source": [
    "# Get mini batches"
   ]
  },
  {
   "cell_type": "code",
   "execution_count": 59,
   "metadata": {
    "execution": {
     "iopub.execute_input": "2024-10-23T08:14:52.010213Z",
     "iopub.status.busy": "2024-10-23T08:14:52.009283Z",
     "iopub.status.idle": "2024-10-23T08:14:52.016689Z",
     "shell.execute_reply": "2024-10-23T08:14:52.015324Z",
     "shell.execute_reply.started": "2024-10-23T08:14:52.010151Z"
    },
    "trusted": true
   },
   "outputs": [],
   "source": [
    "# Get mini batches\n",
    "def get_minibatch(doc_stream, size):\n",
    "    docs, y =[], []\n",
    "    try:\n",
    "        for _ in range(size):\n",
    "            text, label = next(doc_stream)\n",
    "            docs.append(text)\n",
    "            y.append(label)\n",
    "    except StopIteration:\n",
    "        return None, None\n",
    "    return docs, y"
   ]
  },
  {
   "cell_type": "markdown",
   "metadata": {},
   "source": [
    "# Training the Model"
   ]
  },
  {
   "cell_type": "code",
   "execution_count": 60,
   "metadata": {
    "execution": {
     "iopub.execute_input": "2024-10-23T08:14:55.357696Z",
     "iopub.status.busy": "2024-10-23T08:14:55.357279Z",
     "iopub.status.idle": "2024-10-23T08:14:55.363021Z",
     "shell.execute_reply": "2024-10-23T08:14:55.361918Z",
     "shell.execute_reply.started": "2024-10-23T08:14:55.357654Z"
    },
    "trusted": true
   },
   "outputs": [],
   "source": [
    "# Training the Model\n",
    "from sklearn.feature_extraction.text import HashingVectorizer\n",
    "from sklearn.linear_model import SGDClassifier"
   ]
  },
  {
   "cell_type": "code",
   "execution_count": 61,
   "metadata": {
    "execution": {
     "iopub.execute_input": "2024-10-23T08:14:59.257051Z",
     "iopub.status.busy": "2024-10-23T08:14:59.256151Z",
     "iopub.status.idle": "2024-10-23T08:14:59.262262Z",
     "shell.execute_reply": "2024-10-23T08:14:59.261065Z",
     "shell.execute_reply.started": "2024-10-23T08:14:59.257001Z"
    },
    "trusted": true
   },
   "outputs": [],
   "source": [
    "vect = HashingVectorizer(decode_error='ignore', n_features=2**21, preprocessor=None, tokenizer=tokenizer)\n"
   ]
  },
  {
   "cell_type": "code",
   "execution_count": 62,
   "metadata": {
    "execution": {
     "iopub.execute_input": "2024-10-23T08:15:07.316824Z",
     "iopub.status.busy": "2024-10-23T08:15:07.316402Z",
     "iopub.status.idle": "2024-10-23T08:15:07.322580Z",
     "shell.execute_reply": "2024-10-23T08:15:07.321256Z",
     "shell.execute_reply.started": "2024-10-23T08:15:07.316784Z"
    },
    "trusted": true
   },
   "outputs": [],
   "source": [
    "clf = SGDClassifier(loss='log', random_state=1, max_iter=1)"
   ]
  },
  {
   "cell_type": "code",
   "execution_count": 63,
   "metadata": {
    "execution": {
     "iopub.execute_input": "2024-10-23T08:15:24.167314Z",
     "iopub.status.busy": "2024-10-23T08:15:24.166820Z",
     "iopub.status.idle": "2024-10-23T08:15:24.172686Z",
     "shell.execute_reply": "2024-10-23T08:15:24.171490Z",
     "shell.execute_reply.started": "2024-10-23T08:15:24.167270Z"
    },
    "trusted": true
   },
   "outputs": [],
   "source": [
    "doc_stream = stream_docs(path='/kaggle/working/Skroutz_dataset.csv')"
   ]
  },
  {
   "cell_type": "code",
   "execution_count": 67,
   "metadata": {
    "execution": {
     "iopub.execute_input": "2024-10-23T08:23:51.306520Z",
     "iopub.status.busy": "2024-10-23T08:23:51.305956Z",
     "iopub.status.idle": "2024-10-23T08:23:51.312555Z",
     "shell.execute_reply": "2024-10-23T08:23:51.311241Z",
     "shell.execute_reply.started": "2024-10-23T08:23:51.306470Z"
    },
    "trusted": true
   },
   "outputs": [],
   "source": [
    "#!pip install pyprind\n",
    "#import pyprind\n",
    "#pbar = pyprind.ProgBar(45)"
   ]
  },
  {
   "cell_type": "code",
   "execution_count": 68,
   "metadata": {
    "execution": {
     "iopub.execute_input": "2024-10-23T08:23:53.879815Z",
     "iopub.status.busy": "2024-10-23T08:23:53.879386Z",
     "iopub.status.idle": "2024-10-23T08:23:53.885459Z",
     "shell.execute_reply": "2024-10-23T08:23:53.884110Z",
     "shell.execute_reply.started": "2024-10-23T08:23:53.879775Z"
    },
    "trusted": true
   },
   "outputs": [],
   "source": [
    "classes = np.array([0, 1])"
   ]
  },
  {
   "cell_type": "code",
   "execution_count": 69,
   "metadata": {
    "execution": {
     "iopub.execute_input": "2024-10-23T08:23:57.540634Z",
     "iopub.status.busy": "2024-10-23T08:23:57.540221Z",
     "iopub.status.idle": "2024-10-23T08:24:00.140679Z",
     "shell.execute_reply": "2024-10-23T08:24:00.139622Z",
     "shell.execute_reply.started": "2024-10-23T08:23:57.540594Z"
    },
    "trusted": true
   },
   "outputs": [
    {
     "name": "stderr",
     "output_type": "stream",
     "text": [
      "/opt/conda/lib/python3.10/site-packages/sklearn/linear_model/_stochastic_gradient.py:163: FutureWarning: The loss 'log' was deprecated in v1.1 and will be removed in version 1.3. Use `loss='log_loss'` which is equivalent.\n",
      "  warnings.warn(\n"
     ]
    },
    {
     "name": "stdout",
     "output_type": "stream",
     "text": [
      "#\n",
      "##\n",
      "###\n",
      "####\n",
      "#####\n",
      "######\n"
     ]
    }
   ],
   "source": [
    "progress = \"\"\n",
    "for _ in range(6):\n",
    "    X_train, y_train = get_minibatch(doc_stream, size=1000)\n",
    "    if not X_train:\n",
    "        break;\n",
    "    X_train = vect.transform(X_train)\n",
    "    clf.partial_fit(X_train, y_train, classes=classes)\n",
    "    # pbar.update()\n",
    "    progress += \"#\"\n",
    "    print(progress)"
   ]
  },
  {
   "cell_type": "code",
   "execution_count": 70,
   "metadata": {
    "execution": {
     "iopub.execute_input": "2024-10-23T08:24:33.669274Z",
     "iopub.status.busy": "2024-10-23T08:24:33.668822Z",
     "iopub.status.idle": "2024-10-23T08:24:33.679376Z",
     "shell.execute_reply": "2024-10-23T08:24:33.678095Z",
     "shell.execute_reply.started": "2024-10-23T08:24:33.669235Z"
    },
    "trusted": true
   },
   "outputs": [],
   "source": [
    "# Test with the rest 552 data\n",
    "X_test, y_test = get_minibatch(doc_stream, size=552)\n",
    "X_test = vect.transform(X_test)"
   ]
  },
  {
   "cell_type": "code",
   "execution_count": 72,
   "metadata": {
    "execution": {
     "iopub.execute_input": "2024-10-23T08:24:40.719801Z",
     "iopub.status.busy": "2024-10-23T08:24:40.719367Z",
     "iopub.status.idle": "2024-10-23T08:24:40.729083Z",
     "shell.execute_reply": "2024-10-23T08:24:40.727511Z",
     "shell.execute_reply.started": "2024-10-23T08:24:40.719759Z"
    },
    "trusted": true
   },
   "outputs": [
    {
     "name": "stdout",
     "output_type": "stream",
     "text": [
      "Accuracy: 0.953\n"
     ]
    }
   ],
   "source": [
    "print('Accuracy: %.3f' % clf.score(X_test, y_test)) "
   ]
  },
  {
   "cell_type": "code",
   "execution_count": 73,
   "metadata": {
    "execution": {
     "iopub.execute_input": "2024-10-23T08:24:56.695594Z",
     "iopub.status.busy": "2024-10-23T08:24:56.695133Z",
     "iopub.status.idle": "2024-10-23T08:24:56.725469Z",
     "shell.execute_reply": "2024-10-23T08:24:56.724443Z",
     "shell.execute_reply.started": "2024-10-23T08:24:56.695556Z"
    },
    "trusted": true
   },
   "outputs": [],
   "source": [
    "clf = clf.partial_fit(X_test, y_test)"
   ]
  },
  {
   "cell_type": "code",
   "execution_count": 74,
   "metadata": {
    "execution": {
     "iopub.execute_input": "2024-10-23T08:25:01.037672Z",
     "iopub.status.busy": "2024-10-23T08:25:01.037282Z",
     "iopub.status.idle": "2024-10-23T08:25:01.045970Z",
     "shell.execute_reply": "2024-10-23T08:25:01.044592Z",
     "shell.execute_reply.started": "2024-10-23T08:25:01.037637Z"
    },
    "trusted": true
   },
   "outputs": [
    {
     "name": "stdout",
     "output_type": "stream",
     "text": [
      "Accuracy: 0.998\n"
     ]
    }
   ],
   "source": [
    "print('Accuracy: %.3f' % clf.score(X_test, y_test)) "
   ]
  },
  {
   "cell_type": "markdown",
   "metadata": {},
   "source": [
    "# Testing the Model "
   ]
  },
  {
   "cell_type": "markdown",
   "metadata": {},
   "source": [
    "### Example 1"
   ]
  },
  {
   "cell_type": "code",
   "execution_count": 75,
   "metadata": {
    "execution": {
     "iopub.execute_input": "2024-10-23T08:25:40.414721Z",
     "iopub.status.busy": "2024-10-23T08:25:40.414305Z",
     "iopub.status.idle": "2024-10-23T08:25:40.421600Z",
     "shell.execute_reply": "2024-10-23T08:25:40.420279Z",
     "shell.execute_reply.started": "2024-10-23T08:25:40.414682Z"
    },
    "trusted": true
   },
   "outputs": [],
   "source": [
    "# Test \n",
    "import pandas as pd\n",
    "import numpy as np\n",
    "label = {0: 'negative', 1:'positive'}\n",
    "example = ['Πολύ καλό κατάστημα  τόσο από κοντά  όσο και εξ αποστάσεως.']\n",
    "X = vect.transform(example)"
   ]
  },
  {
   "cell_type": "code",
   "execution_count": 76,
   "metadata": {
    "execution": {
     "iopub.execute_input": "2024-10-23T08:25:51.852393Z",
     "iopub.status.busy": "2024-10-23T08:25:51.851935Z",
     "iopub.status.idle": "2024-10-23T08:25:51.861018Z",
     "shell.execute_reply": "2024-10-23T08:25:51.859798Z",
     "shell.execute_reply.started": "2024-10-23T08:25:51.852350Z"
    },
    "trusted": true
   },
   "outputs": [
    {
     "name": "stdout",
     "output_type": "stream",
     "text": [
      "Prediction: positive\n",
      "Probability: 62.75%\n"
     ]
    }
   ],
   "source": [
    "# Make a prediction \n",
    "print('Prediction: %s\\nProbability: %.2f%%' % (label[clf.predict(X)[0]], np.max(clf.predict_proba(X)) * 100))"
   ]
  },
  {
   "cell_type": "markdown",
   "metadata": {},
   "source": [
    "### Example 2"
   ]
  },
  {
   "cell_type": "code",
   "execution_count": 77,
   "metadata": {
    "execution": {
     "iopub.execute_input": "2024-10-23T08:27:41.057075Z",
     "iopub.status.busy": "2024-10-23T08:27:41.056644Z",
     "iopub.status.idle": "2024-10-23T08:27:41.065254Z",
     "shell.execute_reply": "2024-10-23T08:27:41.064214Z",
     "shell.execute_reply.started": "2024-10-23T08:27:41.057035Z"
    },
    "trusted": true
   },
   "outputs": [
    {
     "name": "stdout",
     "output_type": "stream",
     "text": [
      "Prediction: negative\n",
      "Probability: 90.19%\n"
     ]
    }
   ],
   "source": [
    "example = ['Μου αρέσει αυτό το κατάστημα γιατί είναι το χειρότερο από όλα με χάλια εξυπηρέτηση']\n",
    "X = vect.transform(example)\n",
    "# Make a prediction \n",
    "print('Prediction: %s\\nProbability: %.2f%%' % (label[clf.predict(X)[0]], np.max(clf.predict_proba(X)) * 100))"
   ]
  },
  {
   "cell_type": "markdown",
   "metadata": {},
   "source": [
    "# Save the Model"
   ]
  },
  {
   "cell_type": "code",
   "execution_count": 78,
   "metadata": {
    "execution": {
     "iopub.execute_input": "2024-10-23T08:28:08.212687Z",
     "iopub.status.busy": "2024-10-23T08:28:08.212248Z",
     "iopub.status.idle": "2024-10-23T08:28:08.217807Z",
     "shell.execute_reply": "2024-10-23T08:28:08.216426Z",
     "shell.execute_reply.started": "2024-10-23T08:28:08.212645Z"
    },
    "trusted": true
   },
   "outputs": [],
   "source": [
    "## Save the Model \n",
    "import pickle\n",
    "import os"
   ]
  },
  {
   "cell_type": "code",
   "execution_count": 79,
   "metadata": {
    "execution": {
     "iopub.execute_input": "2024-10-23T08:29:01.527794Z",
     "iopub.status.busy": "2024-10-23T08:29:01.527237Z",
     "iopub.status.idle": "2024-10-23T08:29:01.533868Z",
     "shell.execute_reply": "2024-10-23T08:29:01.532744Z",
     "shell.execute_reply.started": "2024-10-23T08:29:01.527743Z"
    },
    "trusted": true
   },
   "outputs": [],
   "source": [
    "dest = os.path.join('reviewsclassifier', 'pkl_objects')\n",
    "if not os.path.exists(dest):\n",
    "    os.makedirs(dest)"
   ]
  },
  {
   "cell_type": "code",
   "execution_count": 80,
   "metadata": {
    "execution": {
     "iopub.execute_input": "2024-10-23T08:29:48.842291Z",
     "iopub.status.busy": "2024-10-23T08:29:48.841103Z",
     "iopub.status.idle": "2024-10-23T08:29:48.848289Z",
     "shell.execute_reply": "2024-10-23T08:29:48.847016Z",
     "shell.execute_reply.started": "2024-10-23T08:29:48.842238Z"
    },
    "trusted": true
   },
   "outputs": [],
   "source": [
    "pickle.dump(greek_stopwords, open(os.path.join(dest, 'greek_stopwords.pkl'), 'wb'), protocol=4)"
   ]
  },
  {
   "cell_type": "code",
   "execution_count": 81,
   "metadata": {
    "execution": {
     "iopub.execute_input": "2024-10-23T08:30:06.186078Z",
     "iopub.status.busy": "2024-10-23T08:30:06.185639Z",
     "iopub.status.idle": "2024-10-23T08:30:06.222554Z",
     "shell.execute_reply": "2024-10-23T08:30:06.221123Z",
     "shell.execute_reply.started": "2024-10-23T08:30:06.186038Z"
    },
    "trusted": true
   },
   "outputs": [],
   "source": [
    "pickle.dump(clf, open(os.path.join(dest,'classifier.pkl'), 'wb'), protocol=4)"
   ]
  },
  {
   "cell_type": "markdown",
   "metadata": {},
   "source": [
    "# Test the saved model"
   ]
  },
  {
   "cell_type": "code",
   "execution_count": 82,
   "metadata": {
    "execution": {
     "iopub.execute_input": "2024-10-23T08:30:25.751360Z",
     "iopub.status.busy": "2024-10-23T08:30:25.750388Z",
     "iopub.status.idle": "2024-10-23T08:30:25.756478Z",
     "shell.execute_reply": "2024-10-23T08:30:25.755234Z",
     "shell.execute_reply.started": "2024-10-23T08:30:25.751306Z"
    },
    "trusted": true
   },
   "outputs": [],
   "source": [
    "# Test the saved model\n",
    "from sklearn.feature_extraction.text import HashingVectorizer\n",
    "import re\n",
    "import os \n",
    "import pickle\n",
    "import numpy as np"
   ]
  },
  {
   "cell_type": "code",
   "execution_count": 85,
   "metadata": {
    "execution": {
     "iopub.execute_input": "2024-10-23T08:32:11.882873Z",
     "iopub.status.busy": "2024-10-23T08:32:11.882435Z",
     "iopub.status.idle": "2024-10-23T08:32:11.889338Z",
     "shell.execute_reply": "2024-10-23T08:32:11.888078Z",
     "shell.execute_reply.started": "2024-10-23T08:32:11.882833Z"
    },
    "trusted": true
   },
   "outputs": [],
   "source": [
    "files_dir = '/kaggle/working/reviewsclassifier'\n",
    "stop = pickle.load(open(os.path.join(files_dir, 'pkl_objects', 'greek_stopwords.pkl'), 'rb'))"
   ]
  },
  {
   "cell_type": "code",
   "execution_count": 86,
   "metadata": {
    "execution": {
     "iopub.execute_input": "2024-10-23T08:32:21.950767Z",
     "iopub.status.busy": "2024-10-23T08:32:21.950324Z",
     "iopub.status.idle": "2024-10-23T08:32:21.957511Z",
     "shell.execute_reply": "2024-10-23T08:32:21.956258Z",
     "shell.execute_reply.started": "2024-10-23T08:32:21.950725Z"
    },
    "trusted": true
   },
   "outputs": [],
   "source": [
    "def tokenizer(text): \n",
    "    text = re.sub('<[^>]*>', '', text)\n",
    "    emotions = re.findall('(?::|;|=)(?:-)?(?:\\)|\\)|D|P)', text)\n",
    "    text = re.sub('[\\W]+', ' ', text.lower()) + ' '.join(emotions).replace('-','')\n",
    "    tokenized = [w for w in text.split() if w not in stop]\n",
    "    return tokenized"
   ]
  },
  {
   "cell_type": "code",
   "execution_count": 87,
   "metadata": {
    "execution": {
     "iopub.execute_input": "2024-10-23T08:32:27.771312Z",
     "iopub.status.busy": "2024-10-23T08:32:27.770855Z",
     "iopub.status.idle": "2024-10-23T08:32:27.777014Z",
     "shell.execute_reply": "2024-10-23T08:32:27.775611Z",
     "shell.execute_reply.started": "2024-10-23T08:32:27.771270Z"
    },
    "trusted": true
   },
   "outputs": [],
   "source": [
    "vect = HashingVectorizer(decode_error='ignore', n_features=2**21, preprocessor=None, tokenizer=tokenizer)"
   ]
  },
  {
   "cell_type": "code",
   "execution_count": 88,
   "metadata": {
    "execution": {
     "iopub.execute_input": "2024-10-23T08:32:37.079077Z",
     "iopub.status.busy": "2024-10-23T08:32:37.078061Z",
     "iopub.status.idle": "2024-10-23T08:32:37.098387Z",
     "shell.execute_reply": "2024-10-23T08:32:37.097265Z",
     "shell.execute_reply.started": "2024-10-23T08:32:37.079025Z"
    },
    "trusted": true
   },
   "outputs": [],
   "source": [
    "clf = pickle.load(open(os.path.join(files_dir, 'pkl_objects', 'classifier.pkl'), 'rb'))"
   ]
  },
  {
   "cell_type": "markdown",
   "metadata": {},
   "source": [
    "### Example 1 with Positive review"
   ]
  },
  {
   "cell_type": "code",
   "execution_count": 89,
   "metadata": {
    "execution": {
     "iopub.execute_input": "2024-10-23T08:33:04.463055Z",
     "iopub.status.busy": "2024-10-23T08:33:04.462643Z",
     "iopub.status.idle": "2024-10-23T08:33:04.469826Z",
     "shell.execute_reply": "2024-10-23T08:33:04.468395Z",
     "shell.execute_reply.started": "2024-10-23T08:33:04.463016Z"
    },
    "trusted": true
   },
   "outputs": [],
   "source": [
    "label = {0:'negative',1:'positive'}\n",
    "example = ['Πολύ καλή εξυπηρέτηση και γρήγορη παράδοση']\n",
    "X = vect.transform(example)"
   ]
  },
  {
   "cell_type": "code",
   "execution_count": 90,
   "metadata": {
    "execution": {
     "iopub.execute_input": "2024-10-23T08:33:11.005721Z",
     "iopub.status.busy": "2024-10-23T08:33:11.005298Z",
     "iopub.status.idle": "2024-10-23T08:33:11.013100Z",
     "shell.execute_reply": "2024-10-23T08:33:11.011924Z",
     "shell.execute_reply.started": "2024-10-23T08:33:11.005681Z"
    },
    "trusted": true
   },
   "outputs": [
    {
     "name": "stdout",
     "output_type": "stream",
     "text": [
      "Prediction: positive\n",
      "Probability: 98.84%\n"
     ]
    }
   ],
   "source": [
    "print('Prediction: %s\\nProbability: %.2f%%' % (label[clf.predict(X)[0]], np.max(clf.predict_proba(X)) * 100))"
   ]
  },
  {
   "cell_type": "markdown",
   "metadata": {},
   "source": [
    "### Example 2 with Negative review"
   ]
  },
  {
   "cell_type": "code",
   "execution_count": 91,
   "metadata": {
    "execution": {
     "iopub.execute_input": "2024-10-23T08:35:12.373795Z",
     "iopub.status.busy": "2024-10-23T08:35:12.373378Z",
     "iopub.status.idle": "2024-10-23T08:35:12.382564Z",
     "shell.execute_reply": "2024-10-23T08:35:12.381132Z",
     "shell.execute_reply.started": "2024-10-23T08:35:12.373759Z"
    },
    "trusted": true
   },
   "outputs": [
    {
     "name": "stdout",
     "output_type": "stream",
     "text": [
      "Prediction: negative\n",
      "Probability: 95.32%\n"
     ]
    }
   ],
   "source": [
    "label = {0:'negative',1:'positive'}\n",
    "example = ['το προϊόν δεν ήρθε ποτέ και δεν μας επιστράφηκαν τα χρήματα']\n",
    "X = vect.transform(example)\n",
    "print('Prediction: %s\\nProbability: %.2f%%' % (label[clf.predict(X)[0]], np.max(clf.predict_proba(X)) * 100))"
   ]
  },
  {
   "cell_type": "code",
   "execution_count": null,
   "metadata": {
    "trusted": true
   },
   "outputs": [],
   "source": []
  },
  {
   "cell_type": "code",
   "execution_count": 1,
   "metadata": {},
   "outputs": [
    {
     "name": "stdout",
     "output_type": "stream",
     "text": [
      "Name: scikit-learn\n",
      "Version: 1.2.2\n",
      "Summary: A set of python modules for machine learning and data mining\n",
      "Home-page: http://scikit-learn.org\n",
      "Author: \n",
      "Author-email: \n",
      "License: new BSD\n",
      "Location: C:\\Users\\Antonis\\anaconda3\\Lib\\site-packages\n",
      "Requires: joblib, numpy, scipy, threadpoolctl\n",
      "Required-by: imbalanced-learn\n"
     ]
    }
   ],
   "source": [
    "!pip show scikit-learn"
   ]
  },
  {
   "cell_type": "code",
   "execution_count": null,
   "metadata": {},
   "outputs": [],
   "source": []
  }
 ],
 "metadata": {
  "kaggle": {
   "accelerator": "none",
   "dataSources": [
    {
     "datasetId": 1755999,
     "sourceId": 2867483,
     "sourceType": "datasetVersion"
    }
   ],
   "dockerImageVersionId": 30786,
   "isGpuEnabled": false,
   "isInternetEnabled": false,
   "language": "python",
   "sourceType": "notebook"
  },
  "kernelspec": {
   "display_name": "base",
   "language": "python",
   "name": "python3"
  },
  "language_info": {
   "codemirror_mode": {
    "name": "ipython",
    "version": 3
   },
   "file_extension": ".py",
   "mimetype": "text/x-python",
   "name": "python",
   "nbconvert_exporter": "python",
   "pygments_lexer": "ipython3",
   "version": "3.11.7"
  }
 },
 "nbformat": 4,
 "nbformat_minor": 4
}
